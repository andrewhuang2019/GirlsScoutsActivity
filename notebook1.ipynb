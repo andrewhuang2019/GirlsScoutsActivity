{
 "cells": [
  {
   "cell_type": "markdown",
   "id": "06ae2d7b-5df0-4298-8b90-8c0b4f6958e2",
   "metadata": {},
   "source": [
    "# Welcome to the Notebook!\n",
    "\n",
    "Notebooks allow for "
   ]
  },
  {
   "cell_type": "code",
   "execution_count": null,
   "id": "a8ea0df2-b134-47f5-934d-6e294bdac10b",
   "metadata": {},
   "outputs": [],
   "source": [
    "i = 0\n",
    "while i < 10:\n",
    "    print(i)\n",
    "    i++"
   ]
  }
 ],
 "metadata": {
  "kernelspec": {
   "display_name": "Python 3 (ipykernel)",
   "language": "python",
   "name": "python3"
  },
  "language_info": {
   "codemirror_mode": {
    "name": "ipython",
    "version": 3
   },
   "file_extension": ".py",
   "mimetype": "text/x-python",
   "name": "python",
   "nbconvert_exporter": "python",
   "pygments_lexer": "ipython3",
   "version": "3.11.4"
  }
 },
 "nbformat": 4,
 "nbformat_minor": 5
}
