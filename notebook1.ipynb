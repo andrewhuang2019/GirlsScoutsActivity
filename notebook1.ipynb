{
 "cells": [
  {
   "cell_type": "markdown",
   "id": "06ae2d7b-5df0-4298-8b90-8c0b4f6958e2",
   "metadata": {},
   "source": [
    "# Welcome to the Notebook!\n",
    "\n",
    "Notebooks allow for snippets of code to be run and an output to be shown.  \n",
    "\n",
    "An example function is shown below:  "
   ]
  },
  {
   "cell_type": "code",
   "execution_count": null,
   "id": "a8ea0df2-b134-47f5-934d-6e294bdac10b",
   "metadata": {},
   "outputs": [
    {
     "ename": "",
     "evalue": "",
     "output_type": "error",
     "traceback": [
      "\u001b[1;31mRunning cells with '/opt/homebrew/bin/python3.12' requires the ipykernel package.\n",
      "\u001b[1;31mRun the following command to install 'ipykernel' into the Python environment. \n",
      "\u001b[1;31mCommand: '/opt/homebrew/bin/python3.12 -m pip install ipykernel -U --user --force-reinstall'"
     ]
    }
   ],
   "source": [
    "i = 0\n",
    "while i < 10:\n",
    "    print(i)\n",
    "    i += 1"
   ]
  },
  {
   "cell_type": "markdown",
   "id": "6a7129e9",
   "metadata": {},
   "source": [
    "Using the program above, you can see that it shows an output of the numbers 0-10 in each line.  \n",
    "The play button on the left lets you run the code!"
   ]
  }
 ],
 "metadata": {
  "kernelspec": {
   "display_name": "Python 3 (ipykernel)",
   "language": "python",
   "name": "python3"
  },
  "language_info": {
   "codemirror_mode": {
    "name": "ipython",
    "version": 3
   },
   "file_extension": ".py",
   "mimetype": "text/x-python",
   "name": "python",
   "nbconvert_exporter": "python",
   "pygments_lexer": "ipython3",
   "version": "3.12.1"
  }
 },
 "nbformat": 4,
 "nbformat_minor": 5
}
